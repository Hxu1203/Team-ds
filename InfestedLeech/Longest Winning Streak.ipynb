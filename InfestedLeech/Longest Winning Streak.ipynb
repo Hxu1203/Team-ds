{
 "cells": [
  {
   "cell_type": "code",
   "execution_count": 1,
   "id": "5fbfd9ea",
   "metadata": {},
   "outputs": [],
   "source": [
    "import pandas as pd\n",
    "from matplotlib import pyplot as plt\n",
    "import numpy as np\n",
    "import seaborn as sns"
   ]
  },
  {
   "cell_type": "code",
   "execution_count": 2,
   "id": "dca97a82",
   "metadata": {},
   "outputs": [],
   "source": [
    "fifa_df = pd.read_csv('./fifa_world_cup.csv')"
   ]
  },
  {
   "cell_type": "code",
   "execution_count": 3,
   "id": "6cb75cf0",
   "metadata": {},
   "outputs": [
    {
     "data": {
      "text/plain": [
       "RangeIndex(start=0, stop=23921, step=1)"
      ]
     },
     "execution_count": 3,
     "metadata": {},
     "output_type": "execute_result"
    }
   ],
   "source": [
    "fifa_df.index"
   ]
  },
  {
   "cell_type": "code",
   "execution_count": 4,
   "id": "bc397c87",
   "metadata": {},
   "outputs": [
    {
     "data": {
      "text/html": [
       "<div>\n",
       "<style scoped>\n",
       "    .dataframe tbody tr th:only-of-type {\n",
       "        vertical-align: middle;\n",
       "    }\n",
       "\n",
       "    .dataframe tbody tr th {\n",
       "        vertical-align: top;\n",
       "    }\n",
       "\n",
       "    .dataframe thead th {\n",
       "        text-align: right;\n",
       "    }\n",
       "</style>\n",
       "<table border=\"1\" class=\"dataframe\">\n",
       "  <thead>\n",
       "    <tr style=\"text-align: right;\">\n",
       "      <th></th>\n",
       "      <th>date</th>\n",
       "      <th>home_team</th>\n",
       "      <th>away_team</th>\n",
       "      <th>home_team_continent</th>\n",
       "      <th>away_team_continent</th>\n",
       "      <th>home_team_fifa_rank</th>\n",
       "      <th>away_team_fifa_rank</th>\n",
       "      <th>home_team_total_fifa_points</th>\n",
       "      <th>away_team_total_fifa_points</th>\n",
       "      <th>home_team_score</th>\n",
       "      <th>...</th>\n",
       "      <th>shoot_out</th>\n",
       "      <th>home_team_result</th>\n",
       "      <th>home_team_goalkeeper_score</th>\n",
       "      <th>away_team_goalkeeper_score</th>\n",
       "      <th>home_team_mean_defense_score</th>\n",
       "      <th>home_team_mean_offense_score</th>\n",
       "      <th>home_team_mean_midfield_score</th>\n",
       "      <th>away_team_mean_defense_score</th>\n",
       "      <th>away_team_mean_offense_score</th>\n",
       "      <th>away_team_mean_midfield_score</th>\n",
       "    </tr>\n",
       "  </thead>\n",
       "  <tbody>\n",
       "    <tr>\n",
       "      <th>0</th>\n",
       "      <td>1993-08-08</td>\n",
       "      <td>Bolivia</td>\n",
       "      <td>Uruguay</td>\n",
       "      <td>South America</td>\n",
       "      <td>South America</td>\n",
       "      <td>59</td>\n",
       "      <td>22</td>\n",
       "      <td>0</td>\n",
       "      <td>0</td>\n",
       "      <td>3</td>\n",
       "      <td>...</td>\n",
       "      <td>No</td>\n",
       "      <td>Win</td>\n",
       "      <td>NaN</td>\n",
       "      <td>NaN</td>\n",
       "      <td>NaN</td>\n",
       "      <td>NaN</td>\n",
       "      <td>NaN</td>\n",
       "      <td>NaN</td>\n",
       "      <td>NaN</td>\n",
       "      <td>NaN</td>\n",
       "    </tr>\n",
       "    <tr>\n",
       "      <th>1</th>\n",
       "      <td>1993-08-08</td>\n",
       "      <td>Brazil</td>\n",
       "      <td>Mexico</td>\n",
       "      <td>South America</td>\n",
       "      <td>North America</td>\n",
       "      <td>8</td>\n",
       "      <td>14</td>\n",
       "      <td>0</td>\n",
       "      <td>0</td>\n",
       "      <td>1</td>\n",
       "      <td>...</td>\n",
       "      <td>No</td>\n",
       "      <td>Draw</td>\n",
       "      <td>NaN</td>\n",
       "      <td>NaN</td>\n",
       "      <td>NaN</td>\n",
       "      <td>NaN</td>\n",
       "      <td>NaN</td>\n",
       "      <td>NaN</td>\n",
       "      <td>NaN</td>\n",
       "      <td>NaN</td>\n",
       "    </tr>\n",
       "    <tr>\n",
       "      <th>2</th>\n",
       "      <td>1993-08-08</td>\n",
       "      <td>Ecuador</td>\n",
       "      <td>Venezuela</td>\n",
       "      <td>South America</td>\n",
       "      <td>South America</td>\n",
       "      <td>35</td>\n",
       "      <td>94</td>\n",
       "      <td>0</td>\n",
       "      <td>0</td>\n",
       "      <td>5</td>\n",
       "      <td>...</td>\n",
       "      <td>No</td>\n",
       "      <td>Win</td>\n",
       "      <td>NaN</td>\n",
       "      <td>NaN</td>\n",
       "      <td>NaN</td>\n",
       "      <td>NaN</td>\n",
       "      <td>NaN</td>\n",
       "      <td>NaN</td>\n",
       "      <td>NaN</td>\n",
       "      <td>NaN</td>\n",
       "    </tr>\n",
       "    <tr>\n",
       "      <th>3</th>\n",
       "      <td>1993-08-08</td>\n",
       "      <td>Guinea</td>\n",
       "      <td>Sierra Leone</td>\n",
       "      <td>Africa</td>\n",
       "      <td>Africa</td>\n",
       "      <td>65</td>\n",
       "      <td>86</td>\n",
       "      <td>0</td>\n",
       "      <td>0</td>\n",
       "      <td>1</td>\n",
       "      <td>...</td>\n",
       "      <td>No</td>\n",
       "      <td>Win</td>\n",
       "      <td>NaN</td>\n",
       "      <td>NaN</td>\n",
       "      <td>NaN</td>\n",
       "      <td>NaN</td>\n",
       "      <td>NaN</td>\n",
       "      <td>NaN</td>\n",
       "      <td>NaN</td>\n",
       "      <td>NaN</td>\n",
       "    </tr>\n",
       "    <tr>\n",
       "      <th>4</th>\n",
       "      <td>1993-08-08</td>\n",
       "      <td>Paraguay</td>\n",
       "      <td>Argentina</td>\n",
       "      <td>South America</td>\n",
       "      <td>South America</td>\n",
       "      <td>67</td>\n",
       "      <td>5</td>\n",
       "      <td>0</td>\n",
       "      <td>0</td>\n",
       "      <td>1</td>\n",
       "      <td>...</td>\n",
       "      <td>No</td>\n",
       "      <td>Lose</td>\n",
       "      <td>NaN</td>\n",
       "      <td>NaN</td>\n",
       "      <td>NaN</td>\n",
       "      <td>NaN</td>\n",
       "      <td>NaN</td>\n",
       "      <td>NaN</td>\n",
       "      <td>NaN</td>\n",
       "      <td>NaN</td>\n",
       "    </tr>\n",
       "  </tbody>\n",
       "</table>\n",
       "<p>5 rows × 25 columns</p>\n",
       "</div>"
      ],
      "text/plain": [
       "         date home_team     away_team home_team_continent away_team_continent  \\\n",
       "0  1993-08-08   Bolivia       Uruguay       South America       South America   \n",
       "1  1993-08-08    Brazil        Mexico       South America       North America   \n",
       "2  1993-08-08   Ecuador     Venezuela       South America       South America   \n",
       "3  1993-08-08    Guinea  Sierra Leone              Africa              Africa   \n",
       "4  1993-08-08  Paraguay     Argentina       South America       South America   \n",
       "\n",
       "   home_team_fifa_rank  away_team_fifa_rank  home_team_total_fifa_points  \\\n",
       "0                   59                   22                            0   \n",
       "1                    8                   14                            0   \n",
       "2                   35                   94                            0   \n",
       "3                   65                   86                            0   \n",
       "4                   67                    5                            0   \n",
       "\n",
       "   away_team_total_fifa_points  home_team_score  ...  shoot_out  \\\n",
       "0                            0                3  ...         No   \n",
       "1                            0                1  ...         No   \n",
       "2                            0                5  ...         No   \n",
       "3                            0                1  ...         No   \n",
       "4                            0                1  ...         No   \n",
       "\n",
       "  home_team_result home_team_goalkeeper_score away_team_goalkeeper_score  \\\n",
       "0              Win                        NaN                        NaN   \n",
       "1             Draw                        NaN                        NaN   \n",
       "2              Win                        NaN                        NaN   \n",
       "3              Win                        NaN                        NaN   \n",
       "4             Lose                        NaN                        NaN   \n",
       "\n",
       "   home_team_mean_defense_score home_team_mean_offense_score  \\\n",
       "0                           NaN                          NaN   \n",
       "1                           NaN                          NaN   \n",
       "2                           NaN                          NaN   \n",
       "3                           NaN                          NaN   \n",
       "4                           NaN                          NaN   \n",
       "\n",
       "  home_team_mean_midfield_score  away_team_mean_defense_score  \\\n",
       "0                           NaN                           NaN   \n",
       "1                           NaN                           NaN   \n",
       "2                           NaN                           NaN   \n",
       "3                           NaN                           NaN   \n",
       "4                           NaN                           NaN   \n",
       "\n",
       "   away_team_mean_offense_score  away_team_mean_midfield_score  \n",
       "0                           NaN                            NaN  \n",
       "1                           NaN                            NaN  \n",
       "2                           NaN                            NaN  \n",
       "3                           NaN                            NaN  \n",
       "4                           NaN                            NaN  \n",
       "\n",
       "[5 rows x 25 columns]"
      ]
     },
     "execution_count": 4,
     "metadata": {},
     "output_type": "execute_result"
    }
   ],
   "source": [
    "fifa_df.head()"
   ]
  },
  {
   "cell_type": "markdown",
   "id": "ee2d8713",
   "metadata": {},
   "source": [
    "# The Longest Winning Streak Away vs Home"
   ]
  },
  {
   "cell_type": "code",
   "execution_count": 6,
   "id": "bb794a9a",
   "metadata": {},
   "outputs": [
    {
     "data": {
      "text/plain": [
       "Brazil                   120\n",
       "Spain                    101\n",
       "Germany                  101\n",
       "Zambia                    88\n",
       "Argentina                 86\n",
       "                        ... \n",
       "Timor-Leste                1\n",
       "Anguilla                   1\n",
       "American Samoa             1\n",
       "São Tomé and Príncipe      1\n",
       "Andorra                    1\n",
       "Name: away_team, Length: 209, dtype: int64"
      ]
     },
     "execution_count": 6,
     "metadata": {},
     "output_type": "execute_result"
    }
   ],
   "source": [
    "awayTeam = fifa_df.groupby(['away_team']).size()\n",
    "\n",
    "awayTeamWins = fifa_df.loc[fifa_df['home_team_result'] == 'Lose']\n",
    "allAwayWins = awayTeamWins['away_team'].value_counts()\n",
    "allAwayWins\n",
    "\n"
   ]
  },
  {
   "cell_type": "code",
   "execution_count": 7,
   "id": "aad8f28b",
   "metadata": {},
   "outputs": [
    {
     "data": {
      "text/plain": [
       "USA                         194\n",
       "Mexico                      190\n",
       "Brazil                      181\n",
       "Saudi Arabia                164\n",
       "Egypt                       163\n",
       "                           ... \n",
       "Cook Islands                  2\n",
       "Turks and Caicos Islands      2\n",
       "US Virgin Islands             2\n",
       "Anguilla                      1\n",
       "San Marino                    1\n",
       "Name: home_team, Length: 211, dtype: int64"
      ]
     },
     "execution_count": 7,
     "metadata": {},
     "output_type": "execute_result"
    }
   ],
   "source": [
    "homeTeam = fifa_df.groupby(['home_team']).size()\n",
    "\n",
    "homeTeamWins = fifa_df.loc[fifa_df['home_team_result'] == 'Win']\n",
    "allHomeWins = homeTeamWins['home_team'].value_counts()\n",
    "allHomeWins"
   ]
  },
  {
   "cell_type": "code",
   "execution_count": 11,
   "id": "88b297fe",
   "metadata": {},
   "outputs": [
    {
     "name": "stdout",
     "output_type": "stream",
     "text": [
      "            home_team  away_team  total_wins  cumsum\n",
      "San Marino          1          0           1   18532\n"
     ]
    }
   ],
   "source": [
    "\n",
    "# Group the data by the 'home_team' and 'away_team' columns\n",
    "homeTeamWins = fifa_df.groupby('home_team')['home_team_result'].apply(lambda x: x[x=='Win'].count())\n",
    "awayTeamWins = fifa_df.groupby('away_team')['home_team_result'].apply(lambda x: x[x=='Lose'].count())\n",
    "\n",
    "# Combine the home and away wins into a single data frame\n",
    "wins_df = pd.DataFrame({'home_team': homeTeamWins, 'away_team': awayTeamWins})\n",
    "wins_df = wins_df.fillna(0)\n",
    "\n",
    "# Calculate the total wins for each team\n",
    "wins_df['total_wins'] = wins_df['home_team'] + wins_df['away_team']\n",
    "\n",
    "# Sort the data by total wins in descending order\n",
    "wins_df = wins_df.sort_values('total_wins', ascending=False)\n",
    "\n",
    "# Calculate the cumulative sum of wins for each team\n",
    "wins_df['cumsum'] = wins_df['total_wins'].cumsum()\n",
    "\n",
    "# Find the team with the longest winning streak\n",
    "longest_streak = wins_df[wins_df['cumsum'] == wins_df['cumsum'].max()]\n",
    "\n",
    "# Print the result\n",
    "print(longest_streak)\n"
   ]
  },
  {
   "cell_type": "code",
   "execution_count": 13,
   "id": "054206fb",
   "metadata": {},
   "outputs": [
    {
     "name": "stdout",
     "output_type": "stream",
     "text": [
      "            home_team  away_team  total_wins  cumsum\n",
      "San Marino          1          0           1   18532\n"
     ]
    }
   ],
   "source": [
    "\n",
    "# Group the data by the 'home_team' and 'away_team' columns\n",
    "home_team_wins = fifa_df.groupby('home_team')['home_team_result'].apply(lambda x: x[x=='Win'].count())\n",
    "away_team_wins = fifa_df.groupby('away_team')['home_team_result'].apply(lambda x: x[x=='Lose'].count())\n",
    "\n",
    "# Combine the home and away wins into a single data frame\n",
    "wins_df = pd.DataFrame({'home_team': home_team_wins, 'away_team': away_team_wins})\n",
    "wins_df = wins_df.fillna(0)\n",
    "\n",
    "# Calculate the total wins for each team\n",
    "wins_df['total_wins'] = wins_df['home_team'] + wins_df['away_team']\n",
    "\n",
    "# Sort the data by total wins in descending order\n",
    "wins_df = wins_df.sort_values('total_wins', ascending=False)\n",
    "\n",
    "# Calculate the cumulative sum of wins for each team\n",
    "wins_df['cumsum'] = wins_df['total_wins'].cumsum()\n",
    "\n",
    "# Find the team with the longest winning streak\n",
    "longest_streak = wins_df[wins_df['cumsum'] == wins_df['cumsum'].max()]\n",
    "\n",
    "# Print the result\n",
    "print(longest_streak)\n"
   ]
  },
  {
   "cell_type": "code",
   "execution_count": null,
   "id": "849ded14",
   "metadata": {},
   "outputs": [],
   "source": []
  }
 ],
 "metadata": {
  "kernelspec": {
   "display_name": "Python 3 (ipykernel)",
   "language": "python",
   "name": "python3"
  },
  "language_info": {
   "codemirror_mode": {
    "name": "ipython",
    "version": 3
   },
   "file_extension": ".py",
   "mimetype": "text/x-python",
   "name": "python",
   "nbconvert_exporter": "python",
   "pygments_lexer": "ipython3",
   "version": "3.9.13"
  }
 },
 "nbformat": 4,
 "nbformat_minor": 5
}
