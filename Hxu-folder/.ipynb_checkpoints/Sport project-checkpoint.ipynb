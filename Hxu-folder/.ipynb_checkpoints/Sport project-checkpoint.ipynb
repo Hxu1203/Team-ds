{
 "cells": [
  {
   "cell_type": "code",
   "execution_count": 2,
   "id": "f722cf3f",
   "metadata": {},
   "outputs": [],
   "source": [
    "import pandas as pd\n",
    "from matplotlib import pyplot as plt\n",
    "import numpy as np\n",
    "import seaborn as sns"
   ]
  },
  {
   "cell_type": "code",
   "execution_count": 3,
   "id": "02222411",
   "metadata": {},
   "outputs": [],
   "source": [
    "#Import the dataset\n",
    "fifa_df = pd.read_csv('./sport/fifa_world_cup.csv')"
   ]
  },
  {
   "cell_type": "code",
   "execution_count": 8,
   "id": "99909ba8",
   "metadata": {},
   "outputs": [
    {
     "data": {
      "text/html": [
       "<div>\n",
       "<style scoped>\n",
       "    .dataframe tbody tr th:only-of-type {\n",
       "        vertical-align: middle;\n",
       "    }\n",
       "\n",
       "    .dataframe tbody tr th {\n",
       "        vertical-align: top;\n",
       "    }\n",
       "\n",
       "    .dataframe thead th {\n",
       "        text-align: right;\n",
       "    }\n",
       "</style>\n",
       "<table border=\"1\" class=\"dataframe\">\n",
       "  <thead>\n",
       "    <tr style=\"text-align: right;\">\n",
       "      <th></th>\n",
       "      <th>date</th>\n",
       "      <th>home_team</th>\n",
       "      <th>away_team</th>\n",
       "      <th>home_team_continent</th>\n",
       "      <th>away_team_continent</th>\n",
       "      <th>home_team_fifa_rank</th>\n",
       "      <th>away_team_fifa_rank</th>\n",
       "      <th>home_team_total_fifa_points</th>\n",
       "      <th>away_team_total_fifa_points</th>\n",
       "      <th>home_team_score</th>\n",
       "      <th>away_team_score</th>\n",
       "      <th>tournament</th>\n",
       "      <th>city</th>\n",
       "      <th>country</th>\n",
       "      <th>neutral_location</th>\n",
       "      <th>shoot_out</th>\n",
       "      <th>home_team_result</th>\n",
       "      <th>home_team_goalkeeper_score</th>\n",
       "      <th>away_team_goalkeeper_score</th>\n",
       "      <th>home_team_mean_defense_score</th>\n",
       "      <th>home_team_mean_offense_score</th>\n",
       "      <th>home_team_mean_midfield_score</th>\n",
       "      <th>away_team_mean_defense_score</th>\n",
       "      <th>away_team_mean_offense_score</th>\n",
       "      <th>away_team_mean_midfield_score</th>\n",
       "    </tr>\n",
       "  </thead>\n",
       "  <tbody>\n",
       "    <tr>\n",
       "      <th>0</th>\n",
       "      <td>1993-08-08</td>\n",
       "      <td>Bolivia</td>\n",
       "      <td>Uruguay</td>\n",
       "      <td>South America</td>\n",
       "      <td>South America</td>\n",
       "      <td>59</td>\n",
       "      <td>22</td>\n",
       "      <td>0</td>\n",
       "      <td>0</td>\n",
       "      <td>3</td>\n",
       "      <td>1</td>\n",
       "      <td>FIFA World Cup qualification</td>\n",
       "      <td>La Paz</td>\n",
       "      <td>Bolivia</td>\n",
       "      <td>False</td>\n",
       "      <td>No</td>\n",
       "      <td>Win</td>\n",
       "      <td>NaN</td>\n",
       "      <td>NaN</td>\n",
       "      <td>NaN</td>\n",
       "      <td>NaN</td>\n",
       "      <td>NaN</td>\n",
       "      <td>NaN</td>\n",
       "      <td>NaN</td>\n",
       "      <td>NaN</td>\n",
       "    </tr>\n",
       "    <tr>\n",
       "      <th>1</th>\n",
       "      <td>1993-08-08</td>\n",
       "      <td>Brazil</td>\n",
       "      <td>Mexico</td>\n",
       "      <td>South America</td>\n",
       "      <td>North America</td>\n",
       "      <td>8</td>\n",
       "      <td>14</td>\n",
       "      <td>0</td>\n",
       "      <td>0</td>\n",
       "      <td>1</td>\n",
       "      <td>1</td>\n",
       "      <td>Friendly</td>\n",
       "      <td>Maceió</td>\n",
       "      <td>Brazil</td>\n",
       "      <td>False</td>\n",
       "      <td>No</td>\n",
       "      <td>Draw</td>\n",
       "      <td>NaN</td>\n",
       "      <td>NaN</td>\n",
       "      <td>NaN</td>\n",
       "      <td>NaN</td>\n",
       "      <td>NaN</td>\n",
       "      <td>NaN</td>\n",
       "      <td>NaN</td>\n",
       "      <td>NaN</td>\n",
       "    </tr>\n",
       "    <tr>\n",
       "      <th>2</th>\n",
       "      <td>1993-08-08</td>\n",
       "      <td>Ecuador</td>\n",
       "      <td>Venezuela</td>\n",
       "      <td>South America</td>\n",
       "      <td>South America</td>\n",
       "      <td>35</td>\n",
       "      <td>94</td>\n",
       "      <td>0</td>\n",
       "      <td>0</td>\n",
       "      <td>5</td>\n",
       "      <td>0</td>\n",
       "      <td>FIFA World Cup qualification</td>\n",
       "      <td>Quito</td>\n",
       "      <td>Ecuador</td>\n",
       "      <td>False</td>\n",
       "      <td>No</td>\n",
       "      <td>Win</td>\n",
       "      <td>NaN</td>\n",
       "      <td>NaN</td>\n",
       "      <td>NaN</td>\n",
       "      <td>NaN</td>\n",
       "      <td>NaN</td>\n",
       "      <td>NaN</td>\n",
       "      <td>NaN</td>\n",
       "      <td>NaN</td>\n",
       "    </tr>\n",
       "    <tr>\n",
       "      <th>3</th>\n",
       "      <td>1993-08-08</td>\n",
       "      <td>Guinea</td>\n",
       "      <td>Sierra Leone</td>\n",
       "      <td>Africa</td>\n",
       "      <td>Africa</td>\n",
       "      <td>65</td>\n",
       "      <td>86</td>\n",
       "      <td>0</td>\n",
       "      <td>0</td>\n",
       "      <td>1</td>\n",
       "      <td>0</td>\n",
       "      <td>Friendly</td>\n",
       "      <td>Conakry</td>\n",
       "      <td>Guinea</td>\n",
       "      <td>False</td>\n",
       "      <td>No</td>\n",
       "      <td>Win</td>\n",
       "      <td>NaN</td>\n",
       "      <td>NaN</td>\n",
       "      <td>NaN</td>\n",
       "      <td>NaN</td>\n",
       "      <td>NaN</td>\n",
       "      <td>NaN</td>\n",
       "      <td>NaN</td>\n",
       "      <td>NaN</td>\n",
       "    </tr>\n",
       "    <tr>\n",
       "      <th>4</th>\n",
       "      <td>1993-08-08</td>\n",
       "      <td>Paraguay</td>\n",
       "      <td>Argentina</td>\n",
       "      <td>South America</td>\n",
       "      <td>South America</td>\n",
       "      <td>67</td>\n",
       "      <td>5</td>\n",
       "      <td>0</td>\n",
       "      <td>0</td>\n",
       "      <td>1</td>\n",
       "      <td>3</td>\n",
       "      <td>FIFA World Cup qualification</td>\n",
       "      <td>Asunción</td>\n",
       "      <td>Paraguay</td>\n",
       "      <td>False</td>\n",
       "      <td>No</td>\n",
       "      <td>Lose</td>\n",
       "      <td>NaN</td>\n",
       "      <td>NaN</td>\n",
       "      <td>NaN</td>\n",
       "      <td>NaN</td>\n",
       "      <td>NaN</td>\n",
       "      <td>NaN</td>\n",
       "      <td>NaN</td>\n",
       "      <td>NaN</td>\n",
       "    </tr>\n",
       "  </tbody>\n",
       "</table>\n",
       "</div>"
      ],
      "text/plain": [
       "         date home_team     away_team home_team_continent away_team_continent  \\\n",
       "0  1993-08-08   Bolivia       Uruguay       South America       South America   \n",
       "1  1993-08-08    Brazil        Mexico       South America       North America   \n",
       "2  1993-08-08   Ecuador     Venezuela       South America       South America   \n",
       "3  1993-08-08    Guinea  Sierra Leone              Africa              Africa   \n",
       "4  1993-08-08  Paraguay     Argentina       South America       South America   \n",
       "\n",
       "   home_team_fifa_rank  away_team_fifa_rank  home_team_total_fifa_points  \\\n",
       "0                   59                   22                            0   \n",
       "1                    8                   14                            0   \n",
       "2                   35                   94                            0   \n",
       "3                   65                   86                            0   \n",
       "4                   67                    5                            0   \n",
       "\n",
       "   away_team_total_fifa_points  home_team_score  away_team_score  \\\n",
       "0                            0                3                1   \n",
       "1                            0                1                1   \n",
       "2                            0                5                0   \n",
       "3                            0                1                0   \n",
       "4                            0                1                3   \n",
       "\n",
       "                     tournament      city   country  neutral_location  \\\n",
       "0  FIFA World Cup qualification    La Paz   Bolivia             False   \n",
       "1                      Friendly    Maceió    Brazil             False   \n",
       "2  FIFA World Cup qualification     Quito   Ecuador             False   \n",
       "3                      Friendly   Conakry    Guinea             False   \n",
       "4  FIFA World Cup qualification  Asunción  Paraguay             False   \n",
       "\n",
       "  shoot_out home_team_result  home_team_goalkeeper_score  \\\n",
       "0        No              Win                         NaN   \n",
       "1        No             Draw                         NaN   \n",
       "2        No              Win                         NaN   \n",
       "3        No              Win                         NaN   \n",
       "4        No             Lose                         NaN   \n",
       "\n",
       "   away_team_goalkeeper_score  home_team_mean_defense_score  \\\n",
       "0                         NaN                           NaN   \n",
       "1                         NaN                           NaN   \n",
       "2                         NaN                           NaN   \n",
       "3                         NaN                           NaN   \n",
       "4                         NaN                           NaN   \n",
       "\n",
       "   home_team_mean_offense_score  home_team_mean_midfield_score  \\\n",
       "0                           NaN                            NaN   \n",
       "1                           NaN                            NaN   \n",
       "2                           NaN                            NaN   \n",
       "3                           NaN                            NaN   \n",
       "4                           NaN                            NaN   \n",
       "\n",
       "   away_team_mean_defense_score  away_team_mean_offense_score  \\\n",
       "0                           NaN                           NaN   \n",
       "1                           NaN                           NaN   \n",
       "2                           NaN                           NaN   \n",
       "3                           NaN                           NaN   \n",
       "4                           NaN                           NaN   \n",
       "\n",
       "   away_team_mean_midfield_score  \n",
       "0                            NaN  \n",
       "1                            NaN  \n",
       "2                            NaN  \n",
       "3                            NaN  \n",
       "4                            NaN  "
      ]
     },
     "execution_count": 8,
     "metadata": {},
     "output_type": "execute_result"
    }
   ],
   "source": [
    "pd.set_option('display.max_columns', None)\n",
    "fifa_df.head()\n"
   ]
  },
  {
   "cell_type": "code",
   "execution_count": 8,
   "id": "79dcf0cd",
   "metadata": {},
   "outputs": [
    {
     "data": {
      "text/plain": [
       "RangeIndex(start=0, stop=23921, step=1)"
      ]
     },
     "execution_count": 8,
     "metadata": {},
     "output_type": "execute_result"
    }
   ],
   "source": [
    "fifa_df.index"
   ]
  },
  {
   "cell_type": "markdown",
   "id": "dbe737e1",
   "metadata": {},
   "source": [
    "# Is there really such a thing as a home-team advantage?"
   ]
  },
  {
   "cell_type": "code",
   "execution_count": null,
   "id": "81678b0f",
   "metadata": {},
   "outputs": [],
   "source": [
    "# Total home team games\n",
    "total_game = fifa_df.groupby(['home_team']).size()\n",
    "total_fifa_game = total_game.sum()\n",
    "total_fifa_game"
   ]
  },
  {
   "cell_type": "code",
   "execution_count": null,
   "id": "837e736d",
   "metadata": {},
   "outputs": [],
   "source": []
  },
  {
   "cell_type": "code",
   "execution_count": 14,
   "id": "755b9295",
   "metadata": {},
   "outputs": [
    {
     "data": {
      "text/plain": [
       "home_team\n",
       "Afghanistan        36\n",
       "Albania           131\n",
       "Algeria           159\n",
       "American Samoa     17\n",
       "Andorra            97\n",
       "                 ... \n",
       "Vietnam           120\n",
       "Wales             129\n",
       "Yemen              87\n",
       "Zambia            180\n",
       "Zimbabwe          135\n",
       "Length: 211, dtype: int64"
      ]
     },
     "execution_count": 14,
     "metadata": {},
     "output_type": "execute_result"
    }
   ],
   "source": [
    "#Count each team's total home game\n",
    "home_team = fifa_df.groupby(['home_team']).size()\n",
    "home_team"
   ]
  },
  {
   "cell_type": "code",
   "execution_count": 13,
   "id": "2c9c030f",
   "metadata": {},
   "outputs": [
    {
     "data": {
      "text/plain": [
       "away_team\n",
       "Afghanistan        65\n",
       "Albania           114\n",
       "Algeria           137\n",
       "American Samoa     14\n",
       "Andorra            92\n",
       "                 ... \n",
       "Vietnam            87\n",
       "Wales             110\n",
       "Yemen             101\n",
       "Zambia            243\n",
       "Zimbabwe          179\n",
       "Length: 211, dtype: int64"
      ]
     },
     "execution_count": 13,
     "metadata": {},
     "output_type": "execute_result"
    }
   ],
   "source": [
    "#Count each team's total away game\n",
    "away_team = fifa_df.groupby(['away_team']).size()\n",
    "away_team"
   ]
  },
  {
   "cell_type": "code",
   "execution_count": 12,
   "id": "8f6dac3d",
   "metadata": {},
   "outputs": [
    {
     "data": {
      "text/plain": [
       "USA                         194\n",
       "Mexico                      190\n",
       "Brazil                      181\n",
       "Saudi Arabia                164\n",
       "Egypt                       163\n",
       "                           ... \n",
       "Cook Islands                  2\n",
       "Turks and Caicos Islands      2\n",
       "US Virgin Islands             2\n",
       "Anguilla                      1\n",
       "San Marino                    1\n",
       "Name: home_team, Length: 211, dtype: int64"
      ]
     },
     "execution_count": 12,
     "metadata": {},
     "output_type": "execute_result"
    }
   ],
   "source": [
    "#Count the win home team\n",
    "win_home_team = fifa_df.loc[fifa_df['home_team_result'] == 'Win']\n",
    "most_win_home_team = win_home_team['home_team'].value_counts()\n",
    "most_win_home_team.sort_values(ascending=False)\n",
    "most_win_home_team\n"
   ]
  },
  {
   "cell_type": "code",
   "execution_count": 36,
   "id": "dd019bc1",
   "metadata": {},
   "outputs": [
    {
     "data": {
      "text/plain": [
       "Brazil                   120\n",
       "Spain                    101\n",
       "Germany                  101\n",
       "Zambia                    88\n",
       "Argentina                 86\n",
       "                        ... \n",
       "Timor-Leste                1\n",
       "Anguilla                   1\n",
       "American Samoa             1\n",
       "São Tomé and Príncipe      1\n",
       "Andorra                    1\n",
       "Name: away_team, Length: 209, dtype: int64"
      ]
     },
     "execution_count": 36,
     "metadata": {},
     "output_type": "execute_result"
    }
   ],
   "source": [
    "#Count home_team_result = Lose means away team won the game\n",
    "win_away_team = fifa_df.loc[fifa_df['home_team_result'] == 'Lose']\n",
    "most_win_away_team = win_away_team['away_team'].value_counts()\n",
    "most_win_away_team.sort_values(ascending=False)\n",
    "most_win_away_team"
   ]
  },
  {
   "cell_type": "code",
   "execution_count": 92,
   "id": "bbb3268d",
   "metadata": {},
   "outputs": [
    {
     "data": {
      "text/html": [
       "<div>\n",
       "<style scoped>\n",
       "    .dataframe tbody tr th:only-of-type {\n",
       "        vertical-align: middle;\n",
       "    }\n",
       "\n",
       "    .dataframe tbody tr th {\n",
       "        vertical-align: top;\n",
       "    }\n",
       "\n",
       "    .dataframe thead th {\n",
       "        text-align: right;\n",
       "    }\n",
       "</style>\n",
       "<table border=\"1\" class=\"dataframe\">\n",
       "  <thead>\n",
       "    <tr style=\"text-align: right;\">\n",
       "      <th></th>\n",
       "      <th>Home_team</th>\n",
       "      <th>Winrate</th>\n",
       "    </tr>\n",
       "  </thead>\n",
       "  <tbody>\n",
       "    <tr>\n",
       "      <th>0</th>\n",
       "      <td>Brazil</td>\n",
       "      <td>77.682403</td>\n",
       "    </tr>\n",
       "    <tr>\n",
       "      <th>1</th>\n",
       "      <td>Spain</td>\n",
       "      <td>76.719577</td>\n",
       "    </tr>\n",
       "    <tr>\n",
       "      <th>2</th>\n",
       "      <td>Egypt</td>\n",
       "      <td>71.806167</td>\n",
       "    </tr>\n",
       "    <tr>\n",
       "      <th>3</th>\n",
       "      <td>IR Iran</td>\n",
       "      <td>69.633508</td>\n",
       "    </tr>\n",
       "    <tr>\n",
       "      <th>4</th>\n",
       "      <td>Argentina</td>\n",
       "      <td>68.421053</td>\n",
       "    </tr>\n",
       "    <tr>\n",
       "      <th>5</th>\n",
       "      <td>Portugal</td>\n",
       "      <td>66.847826</td>\n",
       "    </tr>\n",
       "    <tr>\n",
       "      <th>6</th>\n",
       "      <td>Australia</td>\n",
       "      <td>66.272189</td>\n",
       "    </tr>\n",
       "    <tr>\n",
       "      <th>7</th>\n",
       "      <td>France</td>\n",
       "      <td>65.610860</td>\n",
       "    </tr>\n",
       "    <tr>\n",
       "      <th>8</th>\n",
       "      <td>Czech Republic</td>\n",
       "      <td>65.359477</td>\n",
       "    </tr>\n",
       "    <tr>\n",
       "      <th>9</th>\n",
       "      <td>Senegal</td>\n",
       "      <td>65.333333</td>\n",
       "    </tr>\n",
       "  </tbody>\n",
       "</table>\n",
       "</div>"
      ],
      "text/plain": [
       "        Home_team    Winrate\n",
       "0          Brazil  77.682403\n",
       "1           Spain  76.719577\n",
       "2           Egypt  71.806167\n",
       "3         IR Iran  69.633508\n",
       "4       Argentina  68.421053\n",
       "5        Portugal  66.847826\n",
       "6       Australia  66.272189\n",
       "7          France  65.610860\n",
       "8  Czech Republic  65.359477\n",
       "9         Senegal  65.333333"
      ]
     },
     "execution_count": 92,
     "metadata": {},
     "output_type": "execute_result"
    }
   ],
   "source": [
    "avg = (most_win_home_team/home_team)*100\n",
    "avg_sort = avg.sort_values(ascending=False).head(10)\n",
    "\n",
    "avg_df = avg_df.head(10)\n",
    "avg_df"
   ]
  },
  {
   "cell_type": "code",
   "execution_count": 96,
   "id": "26d3c13f",
   "metadata": {},
   "outputs": [
    {
     "data": {
      "image/png": "[encoded data removed]",
      "text/plain": [
       "<Figure size 432x288 with 1 Axes>"
      ]
     },
     "metadata": {
      "needs_background": "light"
     },
     "output_type": "display_data"
    }
   ],
   "source": [
    "plt.barh(avg_df['Home_team'],avg_df['Winrate'])\n",
    "plt.ylabel('Home_team',fontsize=12)\n",
    "plt.xlabel('Winrate(%)',fontsize=12)\n",
    "\n",
    "plt.show()\n"
   ]
  },
  {
   "cell_type": "code",
   "execution_count": null,
   "id": "5e84966d",
   "metadata": {},
   "outputs": [],
   "source": [
    "plt.barh()"
   ]
  },
  {
   "cell_type": "code",
   "execution_count": 34,
   "id": "0805197b",
   "metadata": {},
   "outputs": [
    {
     "data": {
      "text/plain": [
       "11761"
      ]
     },
     "execution_count": 34,
     "metadata": {},
     "output_type": "execute_result"
    }
   ],
   "source": [
    "#Total wins of home game\n",
    "total_win_home = most_win_home_team.sum()\n",
    "total_win_home"
   ]
  },
  {
   "cell_type": "code",
   "execution_count": 37,
   "id": "a34065f4",
   "metadata": {},
   "outputs": [
    {
     "data": {
      "text/plain": [
       "6771"
      ]
     },
     "execution_count": 37,
     "metadata": {},
     "output_type": "execute_result"
    }
   ],
   "source": [
    "#Totaal wins of away game\n",
    "total_win_away = most_win_away_team.sum()\n",
    "total_win_away"
   ]
  },
  {
   "cell_type": "code",
   "execution_count": 76,
   "id": "76335d17",
   "metadata": {},
   "outputs": [
    {
     "data": {
      "text/plain": [
       "Europe           3517\n",
       "Africa           2942\n",
       "Asia             2585\n",
       "North America    1369\n",
       "South America    1062\n",
       "Oceania           286\n",
       "Name: home_team_continent, dtype: int64"
      ]
     },
     "execution_count": 76,
     "metadata": {},
     "output_type": "execute_result"
    }
   ],
   "source": [
    "#Count total win home game by continent\n",
    "win_home_team_con = fifa_df.loc[fifa_df['home_team_result'] == 'Win']\n",
    "most_win_home_team_con = win_home_team_con['home_team_continent'].value_counts()\n",
    "most_win_home_team_con.sort_values(ascending=False)\n",
    "most_win_home_team_con"
   ]
  },
  {
   "cell_type": "code",
   "execution_count": 77,
   "id": "a41ab3df",
   "metadata": {},
   "outputs": [
    {
     "data": {
      "text/plain": [
       "Europe           2435\n",
       "Africa           1513\n",
       "Asia             1286\n",
       "North America     700\n",
       "South America     657\n",
       "Oceania           180\n",
       "Name: away_team_continent, dtype: int64"
      ]
     },
     "execution_count": 77,
     "metadata": {},
     "output_type": "execute_result"
    }
   ],
   "source": [
    "#Count total win away games by continent\n",
    "win_away_team_con = fifa_df.loc[fifa_df['home_team_result'] == 'Lose']\n",
    "most_win_away_team_con = win_away_team_con['away_team_continent'].value_counts()\n",
    "most_win_away_team_con.sort_values(ascending=False)\n",
    "most_win_away_team_con"
   ]
  },
  {
   "cell_type": "code",
   "execution_count": 106,
   "id": "35732fe3",
   "metadata": {},
   "outputs": [
    {
     "data": {
      "text/html": [
       "<div>\n",
       "<style scoped>\n",
       "    .dataframe tbody tr th:only-of-type {\n",
       "        vertical-align: middle;\n",
       "    }\n",
       "\n",
       "    .dataframe tbody tr th {\n",
       "        vertical-align: top;\n",
       "    }\n",
       "\n",
       "    .dataframe thead th {\n",
       "        text-align: right;\n",
       "    }\n",
       "</style>\n",
       "<table border=\"1\" class=\"dataframe\">\n",
       "  <thead>\n",
       "    <tr style=\"text-align: right;\">\n",
       "      <th></th>\n",
       "      <th>index</th>\n",
       "      <th>counts</th>\n",
       "    </tr>\n",
       "  </thead>\n",
       "  <tbody>\n",
       "    <tr>\n",
       "      <th>0</th>\n",
       "      <td>Doha</td>\n",
       "      <td>397</td>\n",
       "    </tr>\n",
       "    <tr>\n",
       "      <th>1</th>\n",
       "      <td>Bangkok</td>\n",
       "      <td>215</td>\n",
       "    </tr>\n",
       "    <tr>\n",
       "      <th>2</th>\n",
       "      <td>Muscat</td>\n",
       "      <td>212</td>\n",
       "    </tr>\n",
       "    <tr>\n",
       "      <th>3</th>\n",
       "      <td>Kuwait City</td>\n",
       "      <td>202</td>\n",
       "    </tr>\n",
       "    <tr>\n",
       "      <th>4</th>\n",
       "      <td>Abu Dhabi</td>\n",
       "      <td>191</td>\n",
       "    </tr>\n",
       "    <tr>\n",
       "      <th>...</th>\n",
       "      <td>...</td>\n",
       "      <td>...</td>\n",
       "    </tr>\n",
       "    <tr>\n",
       "      <th>1571</th>\n",
       "      <td>Dunedin</td>\n",
       "      <td>1</td>\n",
       "    </tr>\n",
       "    <tr>\n",
       "      <th>1572</th>\n",
       "      <td>Manisa</td>\n",
       "      <td>1</td>\n",
       "    </tr>\n",
       "    <tr>\n",
       "      <th>1573</th>\n",
       "      <td>Mondercange</td>\n",
       "      <td>1</td>\n",
       "    </tr>\n",
       "    <tr>\n",
       "      <th>1574</th>\n",
       "      <td>Veracruz</td>\n",
       "      <td>1</td>\n",
       "    </tr>\n",
       "    <tr>\n",
       "      <th>1575</th>\n",
       "      <td>Vitsebsk</td>\n",
       "      <td>1</td>\n",
       "    </tr>\n",
       "  </tbody>\n",
       "</table>\n",
       "<p>1576 rows × 2 columns</p>\n",
       "</div>"
      ],
      "text/plain": [
       "            index  counts\n",
       "0            Doha     397\n",
       "1         Bangkok     215\n",
       "2          Muscat     212\n",
       "3     Kuwait City     202\n",
       "4       Abu Dhabi     191\n",
       "...           ...     ...\n",
       "1571      Dunedin       1\n",
       "1572       Manisa       1\n",
       "1573  Mondercange       1\n",
       "1574     Veracruz       1\n",
       "1575     Vitsebsk       1\n",
       "\n",
       "[1576 rows x 2 columns]"
      ]
     },
     "execution_count": 106,
     "metadata": {},
     "output_type": "execute_result"
    }
   ],
   "source": [
    "#Count total games by city\n",
    "tournament = fifa_df['city'].value_counts().reset_index(name='counts')\n",
    "\n",
    "tournament\n"
   ]
  },
  {
   "cell_type": "code",
   "execution_count": 8,
   "id": "3006a10b",
   "metadata": {},
   "outputs": [
    {
     "data": {
      "text/plain": [
       "away_team\n",
       "Brazil    200\n",
       "dtype: int64"
      ]
     },
     "execution_count": 8,
     "metadata": {},
     "output_type": "execute_result"
    }
   ],
   "source": [
    "#Brazil total away games\n",
    "BR = fifa_df.loc[fifa_df['away_team'] == 'Brazil']\n",
    "BR_away_game = BR.groupby(['away_team']).size()\n",
    "BR_away_game"
   ]
  },
  {
   "cell_type": "code",
   "execution_count": null,
   "id": "0dcc2343",
   "metadata": {},
   "outputs": [],
   "source": []
  }
 ],
 "metadata": {
  "kernelspec": {
   "display_name": "Python 3 (ipykernel)",
   "language": "python",
   "name": "python3"
  },
  "language_info": {
   "codemirror_mode": {
    "name": "ipython",
    "version": 3
   },
   "file_extension": ".py",
   "mimetype": "text/x-python",
   "name": "python",
   "nbconvert_exporter": "python",
   "pygments_lexer": "ipython3",
   "version": "3.9.7"
  }
 },
 "nbformat": 4,
 "nbformat_minor": 5
}
