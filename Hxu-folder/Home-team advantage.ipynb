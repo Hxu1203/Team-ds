{
 "cells": [
  {
   "cell_type": "code",
   "execution_count": 2,
   "id": "f722cf3f",
   "metadata": {},
   "outputs": [],
   "source": [
    "import pandas as pd\n",
    "from matplotlib import pyplot as plt\n",
    "import numpy as np\n",
    "import seaborn as sns"
   ]
  },
  {
   "cell_type": "code",
   "execution_count": 3,
   "id": "02222411",
   "metadata": {},
   "outputs": [],
   "source": [
    "#Import the dataset\n",
    "fifa_df = pd.read_csv('./sport/fifa_world_cup.csv')"
   ]
  },
  {
   "cell_type": "code",
   "execution_count": 50,
   "id": "99909ba8",
   "metadata": {},
   "outputs": [
    {
     "data": {
      "text/html": [
       "<div>\n",
       "<style scoped>\n",
       "    .dataframe tbody tr th:only-of-type {\n",
       "        vertical-align: middle;\n",
       "    }\n",
       "\n",
       "    .dataframe tbody tr th {\n",
       "        vertical-align: top;\n",
       "    }\n",
       "\n",
       "    .dataframe thead th {\n",
       "        text-align: right;\n",
       "    }\n",
       "</style>\n",
       "<table border=\"1\" class=\"dataframe\">\n",
       "  <thead>\n",
       "    <tr style=\"text-align: right;\">\n",
       "      <th></th>\n",
       "      <th>date</th>\n",
       "      <th>home_team</th>\n",
       "      <th>away_team</th>\n",
       "      <th>home_team_continent</th>\n",
       "      <th>away_team_continent</th>\n",
       "      <th>home_team_fifa_rank</th>\n",
       "      <th>away_team_fifa_rank</th>\n",
       "      <th>home_team_total_fifa_points</th>\n",
       "      <th>away_team_total_fifa_points</th>\n",
       "      <th>home_team_score</th>\n",
       "      <th>away_team_score</th>\n",
       "      <th>tournament</th>\n",
       "      <th>city</th>\n",
       "      <th>country</th>\n",
       "      <th>neutral_location</th>\n",
       "      <th>shoot_out</th>\n",
       "      <th>home_team_result</th>\n",
       "      <th>home_team_goalkeeper_score</th>\n",
       "      <th>away_team_goalkeeper_score</th>\n",
       "      <th>home_team_mean_defense_score</th>\n",
       "      <th>home_team_mean_offense_score</th>\n",
       "      <th>home_team_mean_midfield_score</th>\n",
       "      <th>away_team_mean_defense_score</th>\n",
       "      <th>away_team_mean_offense_score</th>\n",
       "      <th>away_team_mean_midfield_score</th>\n",
       "    </tr>\n",
       "  </thead>\n",
       "  <tbody>\n",
       "    <tr>\n",
       "      <th>0</th>\n",
       "      <td>1993-08-08</td>\n",
       "      <td>Bolivia</td>\n",
       "      <td>Uruguay</td>\n",
       "      <td>South America</td>\n",
       "      <td>South America</td>\n",
       "      <td>59</td>\n",
       "      <td>22</td>\n",
       "      <td>0</td>\n",
       "      <td>0</td>\n",
       "      <td>3</td>\n",
       "      <td>1</td>\n",
       "      <td>FIFA World Cup qualification</td>\n",
       "      <td>La Paz</td>\n",
       "      <td>Bolivia</td>\n",
       "      <td>False</td>\n",
       "      <td>No</td>\n",
       "      <td>Win</td>\n",
       "      <td>NaN</td>\n",
       "      <td>NaN</td>\n",
       "      <td>NaN</td>\n",
       "      <td>NaN</td>\n",
       "      <td>NaN</td>\n",
       "      <td>NaN</td>\n",
       "      <td>NaN</td>\n",
       "      <td>NaN</td>\n",
       "    </tr>\n",
       "    <tr>\n",
       "      <th>1</th>\n",
       "      <td>1993-08-08</td>\n",
       "      <td>Brazil</td>\n",
       "      <td>Mexico</td>\n",
       "      <td>South America</td>\n",
       "      <td>North America</td>\n",
       "      <td>8</td>\n",
       "      <td>14</td>\n",
       "      <td>0</td>\n",
       "      <td>0</td>\n",
       "      <td>1</td>\n",
       "      <td>1</td>\n",
       "      <td>Friendly</td>\n",
       "      <td>Maceió</td>\n",
       "      <td>Brazil</td>\n",
       "      <td>False</td>\n",
       "      <td>No</td>\n",
       "      <td>Draw</td>\n",
       "      <td>NaN</td>\n",
       "      <td>NaN</td>\n",
       "      <td>NaN</td>\n",
       "      <td>NaN</td>\n",
       "      <td>NaN</td>\n",
       "      <td>NaN</td>\n",
       "      <td>NaN</td>\n",
       "      <td>NaN</td>\n",
       "    </tr>\n",
       "    <tr>\n",
       "      <th>2</th>\n",
       "      <td>1993-08-08</td>\n",
       "      <td>Ecuador</td>\n",
       "      <td>Venezuela</td>\n",
       "      <td>South America</td>\n",
       "      <td>South America</td>\n",
       "      <td>35</td>\n",
       "      <td>94</td>\n",
       "      <td>0</td>\n",
       "      <td>0</td>\n",
       "      <td>5</td>\n",
       "      <td>0</td>\n",
       "      <td>FIFA World Cup qualification</td>\n",
       "      <td>Quito</td>\n",
       "      <td>Ecuador</td>\n",
       "      <td>False</td>\n",
       "      <td>No</td>\n",
       "      <td>Win</td>\n",
       "      <td>NaN</td>\n",
       "      <td>NaN</td>\n",
       "      <td>NaN</td>\n",
       "      <td>NaN</td>\n",
       "      <td>NaN</td>\n",
       "      <td>NaN</td>\n",
       "      <td>NaN</td>\n",
       "      <td>NaN</td>\n",
       "    </tr>\n",
       "    <tr>\n",
       "      <th>3</th>\n",
       "      <td>1993-08-08</td>\n",
       "      <td>Guinea</td>\n",
       "      <td>Sierra Leone</td>\n",
       "      <td>Africa</td>\n",
       "      <td>Africa</td>\n",
       "      <td>65</td>\n",
       "      <td>86</td>\n",
       "      <td>0</td>\n",
       "      <td>0</td>\n",
       "      <td>1</td>\n",
       "      <td>0</td>\n",
       "      <td>Friendly</td>\n",
       "      <td>Conakry</td>\n",
       "      <td>Guinea</td>\n",
       "      <td>False</td>\n",
       "      <td>No</td>\n",
       "      <td>Win</td>\n",
       "      <td>NaN</td>\n",
       "      <td>NaN</td>\n",
       "      <td>NaN</td>\n",
       "      <td>NaN</td>\n",
       "      <td>NaN</td>\n",
       "      <td>NaN</td>\n",
       "      <td>NaN</td>\n",
       "      <td>NaN</td>\n",
       "    </tr>\n",
       "    <tr>\n",
       "      <th>4</th>\n",
       "      <td>1993-08-08</td>\n",
       "      <td>Paraguay</td>\n",
       "      <td>Argentina</td>\n",
       "      <td>South America</td>\n",
       "      <td>South America</td>\n",
       "      <td>67</td>\n",
       "      <td>5</td>\n",
       "      <td>0</td>\n",
       "      <td>0</td>\n",
       "      <td>1</td>\n",
       "      <td>3</td>\n",
       "      <td>FIFA World Cup qualification</td>\n",
       "      <td>Asunción</td>\n",
       "      <td>Paraguay</td>\n",
       "      <td>False</td>\n",
       "      <td>No</td>\n",
       "      <td>Lose</td>\n",
       "      <td>NaN</td>\n",
       "      <td>NaN</td>\n",
       "      <td>NaN</td>\n",
       "      <td>NaN</td>\n",
       "      <td>NaN</td>\n",
       "      <td>NaN</td>\n",
       "      <td>NaN</td>\n",
       "      <td>NaN</td>\n",
       "    </tr>\n",
       "  </tbody>\n",
       "</table>\n",
       "</div>"
      ],
      "text/plain": [
       "         date home_team     away_team home_team_continent away_team_continent  \\\n",
       "0  1993-08-08   Bolivia       Uruguay       South America       South America   \n",
       "1  1993-08-08    Brazil        Mexico       South America       North America   \n",
       "2  1993-08-08   Ecuador     Venezuela       South America       South America   \n",
       "3  1993-08-08    Guinea  Sierra Leone              Africa              Africa   \n",
       "4  1993-08-08  Paraguay     Argentina       South America       South America   \n",
       "\n",
       "   home_team_fifa_rank  away_team_fifa_rank  home_team_total_fifa_points  \\\n",
       "0                   59                   22                            0   \n",
       "1                    8                   14                            0   \n",
       "2                   35                   94                            0   \n",
       "3                   65                   86                            0   \n",
       "4                   67                    5                            0   \n",
       "\n",
       "   away_team_total_fifa_points  home_team_score  away_team_score  \\\n",
       "0                            0                3                1   \n",
       "1                            0                1                1   \n",
       "2                            0                5                0   \n",
       "3                            0                1                0   \n",
       "4                            0                1                3   \n",
       "\n",
       "                     tournament      city   country  neutral_location  \\\n",
       "0  FIFA World Cup qualification    La Paz   Bolivia             False   \n",
       "1                      Friendly    Maceió    Brazil             False   \n",
       "2  FIFA World Cup qualification     Quito   Ecuador             False   \n",
       "3                      Friendly   Conakry    Guinea             False   \n",
       "4  FIFA World Cup qualification  Asunción  Paraguay             False   \n",
       "\n",
       "  shoot_out home_team_result  home_team_goalkeeper_score  \\\n",
       "0        No              Win                         NaN   \n",
       "1        No             Draw                         NaN   \n",
       "2        No              Win                         NaN   \n",
       "3        No              Win                         NaN   \n",
       "4        No             Lose                         NaN   \n",
       "\n",
       "   away_team_goalkeeper_score  home_team_mean_defense_score  \\\n",
       "0                         NaN                           NaN   \n",
       "1                         NaN                           NaN   \n",
       "2                         NaN                           NaN   \n",
       "3                         NaN                           NaN   \n",
       "4                         NaN                           NaN   \n",
       "\n",
       "   home_team_mean_offense_score  home_team_mean_midfield_score  \\\n",
       "0                           NaN                            NaN   \n",
       "1                           NaN                            NaN   \n",
       "2                           NaN                            NaN   \n",
       "3                           NaN                            NaN   \n",
       "4                           NaN                            NaN   \n",
       "\n",
       "   away_team_mean_defense_score  away_team_mean_offense_score  \\\n",
       "0                           NaN                           NaN   \n",
       "1                           NaN                           NaN   \n",
       "2                           NaN                           NaN   \n",
       "3                           NaN                           NaN   \n",
       "4                           NaN                           NaN   \n",
       "\n",
       "   away_team_mean_midfield_score  \n",
       "0                            NaN  \n",
       "1                            NaN  \n",
       "2                            NaN  \n",
       "3                            NaN  \n",
       "4                            NaN  "
      ]
     },
     "execution_count": 50,
     "metadata": {},
     "output_type": "execute_result"
    }
   ],
   "source": [
    "pd.set_option('display.max_columns', None)\n",
    "fifa_df.head()\n"
   ]
  },
  {
   "cell_type": "code",
   "execution_count": 4,
   "id": "79dcf0cd",
   "metadata": {},
   "outputs": [
    {
     "data": {
      "text/plain": [
       "RangeIndex(start=0, stop=23921, step=1)"
      ]
     },
     "execution_count": 4,
     "metadata": {},
     "output_type": "execute_result"
    }
   ],
   "source": [
    "fifa_df.index"
   ]
  },
  {
   "cell_type": "markdown",
   "id": "dbe737e1",
   "metadata": {},
   "source": [
    "# Is there really such a thing as a home-team advantage?"
   ]
  },
  {
   "cell_type": "markdown",
   "id": "4f24b184",
   "metadata": {},
   "source": [
    "### First, I would like to compare the home and away game winrate of different teams\n"
   ]
  },
  {
   "cell_type": "code",
   "execution_count": 146,
   "id": "755b9295",
   "metadata": {},
   "outputs": [
    {
     "data": {
      "text/plain": [
       "home_team\n",
       "Afghanistan        36\n",
       "Albania           131\n",
       "Algeria           159\n",
       "American Samoa     17\n",
       "Andorra            97\n",
       "                 ... \n",
       "Vietnam           120\n",
       "Wales             129\n",
       "Yemen              87\n",
       "Zambia            180\n",
       "Zimbabwe          135\n",
       "Length: 211, dtype: int64"
      ]
     },
     "execution_count": 146,
     "metadata": {},
     "output_type": "execute_result"
    }
   ],
   "source": [
    "#Count each home team's total home game\n",
    "home_team = fifa_df.groupby(['home_team']).size()\n",
    "home_team"
   ]
  },
  {
   "cell_type": "code",
   "execution_count": 53,
   "id": "2c9c030f",
   "metadata": {},
   "outputs": [
    {
     "data": {
      "text/plain": [
       "away_team\n",
       "Afghanistan        65\n",
       "Albania           114\n",
       "Algeria           137\n",
       "American Samoa     14\n",
       "Andorra            92\n",
       "                 ... \n",
       "Vietnam            87\n",
       "Wales             110\n",
       "Yemen             101\n",
       "Zambia            243\n",
       "Zimbabwe          179\n",
       "Length: 211, dtype: int64"
      ]
     },
     "execution_count": 53,
     "metadata": {},
     "output_type": "execute_result"
    }
   ],
   "source": [
    "#Count each away team's total away game\n",
    "away_team = fifa_df.groupby(['away_team']).size()\n",
    "away_team"
   ]
  },
  {
   "cell_type": "code",
   "execution_count": 54,
   "id": "8f6dac3d",
   "metadata": {},
   "outputs": [
    {
     "data": {
      "text/plain": [
       "USA                         194\n",
       "Mexico                      190\n",
       "Brazil                      181\n",
       "Saudi Arabia                164\n",
       "Egypt                       163\n",
       "                           ... \n",
       "Cook Islands                  2\n",
       "Turks and Caicos Islands      2\n",
       "US Virgin Islands             2\n",
       "Anguilla                      1\n",
       "San Marino                    1\n",
       "Name: home_team, Length: 211, dtype: int64"
      ]
     },
     "execution_count": 54,
     "metadata": {},
     "output_type": "execute_result"
    }
   ],
   "source": [
    "#Count the win home team result\n",
    "win_home_team = fifa_df.loc[fifa_df['home_team_result'] == 'Win']\n",
    "most_win_home_team = win_home_team['home_team'].value_counts()\n",
    "most_win_home_team.sort_values(ascending=False)\n",
    "most_win_home_team\n"
   ]
  },
  {
   "cell_type": "code",
   "execution_count": 55,
   "id": "dd019bc1",
   "metadata": {},
   "outputs": [
    {
     "data": {
      "text/plain": [
       "Brazil                   120\n",
       "Spain                    101\n",
       "Germany                  101\n",
       "Zambia                    88\n",
       "Argentina                 86\n",
       "                        ... \n",
       "Timor-Leste                1\n",
       "Anguilla                   1\n",
       "American Samoa             1\n",
       "São Tomé and Príncipe      1\n",
       "Andorra                    1\n",
       "Name: away_team, Length: 209, dtype: int64"
      ]
     },
     "execution_count": 55,
     "metadata": {},
     "output_type": "execute_result"
    }
   ],
   "source": [
    "#Count away_team_result\n",
    "win_away_team = fifa_df.loc[fifa_df['home_team_result'] == 'Lose']\n",
    "most_win_away_team = win_away_team['away_team'].value_counts()\n",
    "most_win_away_team.sort_values(ascending=False)\n",
    "most_win_away_team"
   ]
  },
  {
   "cell_type": "code",
   "execution_count": 56,
   "id": "bbb3268d",
   "metadata": {},
   "outputs": [
    {
     "data": {
      "text/html": [
       "<div>\n",
       "<style scoped>\n",
       "    .dataframe tbody tr th:only-of-type {\n",
       "        vertical-align: middle;\n",
       "    }\n",
       "\n",
       "    .dataframe tbody tr th {\n",
       "        vertical-align: top;\n",
       "    }\n",
       "\n",
       "    .dataframe thead th {\n",
       "        text-align: right;\n",
       "    }\n",
       "</style>\n",
       "<table border=\"1\" class=\"dataframe\">\n",
       "  <thead>\n",
       "    <tr style=\"text-align: right;\">\n",
       "      <th></th>\n",
       "      <th>home_team</th>\n",
       "      <th>winrate</th>\n",
       "    </tr>\n",
       "  </thead>\n",
       "  <tbody>\n",
       "    <tr>\n",
       "      <th>0</th>\n",
       "      <td>Brazil</td>\n",
       "      <td>77.682403</td>\n",
       "    </tr>\n",
       "    <tr>\n",
       "      <th>1</th>\n",
       "      <td>Spain</td>\n",
       "      <td>76.719577</td>\n",
       "    </tr>\n",
       "    <tr>\n",
       "      <th>2</th>\n",
       "      <td>Egypt</td>\n",
       "      <td>71.806167</td>\n",
       "    </tr>\n",
       "    <tr>\n",
       "      <th>3</th>\n",
       "      <td>IR Iran</td>\n",
       "      <td>69.633508</td>\n",
       "    </tr>\n",
       "    <tr>\n",
       "      <th>4</th>\n",
       "      <td>Argentina</td>\n",
       "      <td>68.421053</td>\n",
       "    </tr>\n",
       "    <tr>\n",
       "      <th>5</th>\n",
       "      <td>Portugal</td>\n",
       "      <td>66.847826</td>\n",
       "    </tr>\n",
       "    <tr>\n",
       "      <th>6</th>\n",
       "      <td>Australia</td>\n",
       "      <td>66.272189</td>\n",
       "    </tr>\n",
       "    <tr>\n",
       "      <th>7</th>\n",
       "      <td>France</td>\n",
       "      <td>65.610860</td>\n",
       "    </tr>\n",
       "    <tr>\n",
       "      <th>8</th>\n",
       "      <td>Czech Republic</td>\n",
       "      <td>65.359477</td>\n",
       "    </tr>\n",
       "    <tr>\n",
       "      <th>9</th>\n",
       "      <td>Senegal</td>\n",
       "      <td>65.333333</td>\n",
       "    </tr>\n",
       "  </tbody>\n",
       "</table>\n",
       "</div>"
      ],
      "text/plain": [
       "        home_team    winrate\n",
       "0          Brazil  77.682403\n",
       "1           Spain  76.719577\n",
       "2           Egypt  71.806167\n",
       "3         IR Iran  69.633508\n",
       "4       Argentina  68.421053\n",
       "5        Portugal  66.847826\n",
       "6       Australia  66.272189\n",
       "7          France  65.610860\n",
       "8  Czech Republic  65.359477\n",
       "9         Senegal  65.333333"
      ]
     },
     "execution_count": 56,
     "metadata": {},
     "output_type": "execute_result"
    }
   ],
   "source": [
    "#top 10 home_team's winrate\n",
    "home_winrate = (most_win_home_team/home_team)*100\n",
    "home_winrate = home_winrate.sort_values(ascending=False).head(10)\n",
    "home_winrate_df = pd.DataFrame(home_winrate)\n",
    "home_winrate_df = home_winrate_df.reset_index()\n",
    "home_winrate_df = home_winrate_df.rename(columns={'index':'home_team',0:'winrate'})\n",
    "\n",
    "home_winrate_df = home_winrate_df.head(10)\n",
    "home_winrate_df"
   ]
  },
  {
   "cell_type": "code",
   "execution_count": 57,
   "id": "ff16ab91",
   "metadata": {},
   "outputs": [
    {
     "data": {
      "text/html": [
       "<div>\n",
       "<style scoped>\n",
       "    .dataframe tbody tr th:only-of-type {\n",
       "        vertical-align: middle;\n",
       "    }\n",
       "\n",
       "    .dataframe tbody tr th {\n",
       "        vertical-align: top;\n",
       "    }\n",
       "\n",
       "    .dataframe thead th {\n",
       "        text-align: right;\n",
       "    }\n",
       "</style>\n",
       "<table border=\"1\" class=\"dataframe\">\n",
       "  <thead>\n",
       "    <tr style=\"text-align: right;\">\n",
       "      <th></th>\n",
       "      <th>away_team</th>\n",
       "      <th>winrate</th>\n",
       "    </tr>\n",
       "  </thead>\n",
       "  <tbody>\n",
       "    <tr>\n",
       "      <th>0</th>\n",
       "      <td>Spain</td>\n",
       "      <td>61.212121</td>\n",
       "    </tr>\n",
       "    <tr>\n",
       "      <th>1</th>\n",
       "      <td>Brazil</td>\n",
       "      <td>60.000000</td>\n",
       "    </tr>\n",
       "    <tr>\n",
       "      <th>2</th>\n",
       "      <td>Germany</td>\n",
       "      <td>59.064327</td>\n",
       "    </tr>\n",
       "    <tr>\n",
       "      <th>3</th>\n",
       "      <td>France</td>\n",
       "      <td>57.046980</td>\n",
       "    </tr>\n",
       "    <tr>\n",
       "      <th>4</th>\n",
       "      <td>Netherlands</td>\n",
       "      <td>55.405405</td>\n",
       "    </tr>\n",
       "    <tr>\n",
       "      <th>5</th>\n",
       "      <td>England</td>\n",
       "      <td>51.428571</td>\n",
       "    </tr>\n",
       "    <tr>\n",
       "      <th>6</th>\n",
       "      <td>Japan</td>\n",
       "      <td>50.344828</td>\n",
       "    </tr>\n",
       "    <tr>\n",
       "      <th>7</th>\n",
       "      <td>Italy</td>\n",
       "      <td>49.342105</td>\n",
       "    </tr>\n",
       "    <tr>\n",
       "      <th>8</th>\n",
       "      <td>Portugal</td>\n",
       "      <td>49.342105</td>\n",
       "    </tr>\n",
       "    <tr>\n",
       "      <th>9</th>\n",
       "      <td>Argentina</td>\n",
       "      <td>48.587571</td>\n",
       "    </tr>\n",
       "  </tbody>\n",
       "</table>\n",
       "</div>"
      ],
      "text/plain": [
       "     away_team    winrate\n",
       "0        Spain  61.212121\n",
       "1       Brazil  60.000000\n",
       "2      Germany  59.064327\n",
       "3       France  57.046980\n",
       "4  Netherlands  55.405405\n",
       "5      England  51.428571\n",
       "6        Japan  50.344828\n",
       "7        Italy  49.342105\n",
       "8     Portugal  49.342105\n",
       "9    Argentina  48.587571"
      ]
     },
     "execution_count": 57,
     "metadata": {},
     "output_type": "execute_result"
    }
   ],
   "source": [
    "#Top 10 away team winrate\n",
    "away_winrate = (most_win_away_team/away_team)*100\n",
    "away_winrate = away_winrate.sort_values(ascending=False).head(10)\n",
    "away_winrate_df = pd.DataFrame(away_winrate)\n",
    "away_winrate_df = away_winrate_df.reset_index()\n",
    "away_winrate_df = away_winrate_df.rename(columns={'index':'away_team',0:'winrate'})\n",
    "\n",
    "away_winrate_df = away_winrate_df.head(10)\n",
    "away_winrate_df\n"
   ]
  },
  {
   "cell_type": "code",
   "execution_count": 147,
   "id": "26d3c13f",
   "metadata": {
    "scrolled": true
   },
   "outputs": [
    {
     "data": {
      "image/png": "[encoded data removed]",
      "text/plain": [
       "<Figure size 1008x360 with 1 Axes>"
      ]
     },
     "metadata": {
      "needs_background": "light"
     },
     "output_type": "display_data"
    }
   ],
   "source": [
    "#Top 10 home-team win rates viz\n",
    "fig, ax = plt.subplots(figsize=(14,5))\n",
    "g=plt.barh(home_winrate_df['home_team'],home_winrate_df['winrate'])\n",
    "plt.ylabel('Home_team',fontsize=12)\n",
    "plt.xlabel('Win rate(%)',fontsize=12)\n",
    "ax.bar_label(g, label_type=\"edge\",fmt='%.2f')\n",
    "plt.show()\n"
   ]
  },
  {
   "cell_type": "code",
   "execution_count": 148,
   "id": "5e84966d",
   "metadata": {},
   "outputs": [
    {
     "data": {
      "image/png": "[encoded data removed]",
      "text/plain": [
       "<Figure size 936x360 with 1 Axes>"
      ]
     },
     "metadata": {
      "needs_background": "light"
     },
     "output_type": "display_data"
    }
   ],
   "source": [
    "#top 10 away team win rate viz\n",
    "fig, ax = plt.subplots(figsize=(13,5))\n",
    "g=plt.barh(away_winrate_df['away_team'],away_winrate_df['winrate'])\n",
    "plt.ylabel('Away_team',fontsize=12)\n",
    "plt.xlabel('Win rate(%)',fontsize=12)\n",
    "\n",
    "ax.bar_label(g, label_type=\"edge\",fmt='%.2f')\n",
    "\n",
    "plt.show()\n"
   ]
  },
  {
   "cell_type": "markdown",
   "id": "adca2f19",
   "metadata": {},
   "source": [
    "### Next, we compare the total winrate of both side."
   ]
  },
  {
   "cell_type": "code",
   "execution_count": null,
   "id": "2dc21c4e",
   "metadata": {},
   "outputs": [],
   "source": [
    "# Total games\n",
    "total_game = fifa_df.groupby(['home_team']).size()\n",
    "total_game = total_game.sum()\n",
    "total_game"
   ]
  },
  {
   "cell_type": "code",
   "execution_count": 60,
   "id": "0805197b",
   "metadata": {},
   "outputs": [
    {
     "data": {
      "text/plain": [
       "11761"
      ]
     },
     "execution_count": 60,
     "metadata": {},
     "output_type": "execute_result"
    }
   ],
   "source": [
    "#Total wins of home game\n",
    "total_win_home = most_win_home_team.sum()\n",
    "total_win_home"
   ]
  },
  {
   "cell_type": "code",
   "execution_count": 61,
   "id": "a34065f4",
   "metadata": {},
   "outputs": [
    {
     "data": {
      "text/plain": [
       "6771"
      ]
     },
     "execution_count": 61,
     "metadata": {},
     "output_type": "execute_result"
    }
   ],
   "source": [
    "#Total wins of away game\n",
    "total_win_away = most_win_away_team.sum()\n",
    "total_win_away"
   ]
  },
  {
   "cell_type": "code",
   "execution_count": 62,
   "id": "cfa13cfe",
   "metadata": {},
   "outputs": [
    {
     "data": {
      "text/plain": [
       "49.166004765687056"
      ]
     },
     "execution_count": 62,
     "metadata": {},
     "output_type": "execute_result"
    }
   ],
   "source": [
    "#total home-game win rate\n",
    "total_home_winrate = (total_win_home/total_game)*100\n",
    "total_home_winrate"
   ]
  },
  {
   "cell_type": "code",
   "execution_count": 63,
   "id": "4255fc62",
   "metadata": {},
   "outputs": [
    {
     "data": {
      "text/plain": [
       "28.305672839764224"
      ]
     },
     "execution_count": 63,
     "metadata": {},
     "output_type": "execute_result"
    }
   ],
   "source": [
    "#total away-game win rate\n",
    "total_away_winrate = (total_win_away/total_game)*100\n",
    "total_away_winrate\n"
   ]
  },
  {
   "cell_type": "code",
   "execution_count": 64,
   "id": "0389d721",
   "metadata": {},
   "outputs": [
    {
     "data": {
      "text/html": [
       "<div>\n",
       "<style scoped>\n",
       "    .dataframe tbody tr th:only-of-type {\n",
       "        vertical-align: middle;\n",
       "    }\n",
       "\n",
       "    .dataframe tbody tr th {\n",
       "        vertical-align: top;\n",
       "    }\n",
       "\n",
       "    .dataframe thead th {\n",
       "        text-align: right;\n",
       "    }\n",
       "</style>\n",
       "<table border=\"1\" class=\"dataframe\">\n",
       "  <thead>\n",
       "    <tr style=\"text-align: right;\">\n",
       "      <th></th>\n",
       "      <th>home_team</th>\n",
       "      <th>away_team</th>\n",
       "    </tr>\n",
       "  </thead>\n",
       "  <tbody>\n",
       "    <tr>\n",
       "      <th>0</th>\n",
       "      <td>49.166005</td>\n",
       "      <td>28.305673</td>\n",
       "    </tr>\n",
       "  </tbody>\n",
       "</table>\n",
       "</div>"
      ],
      "text/plain": [
       "   home_team  away_team\n",
       "0  49.166005  28.305673"
      ]
     },
     "execution_count": 64,
     "metadata": {},
     "output_type": "execute_result"
    }
   ],
   "source": [
    "\n",
    "winrate = {'home_team':total_home_winrate,'away_team':total_away_winrate}\n",
    "winrate_df = pd.DataFrame(data=winrate,index = [0])\n",
    "winrate_df"
   ]
  },
  {
   "cell_type": "code",
   "execution_count": 151,
   "id": "f7600e37",
   "metadata": {},
   "outputs": [
    {
     "data": {
      "image/png": "[encoded data removed]",
      "text/plain": [
       "<Figure size 432x288 with 1 Axes>"
      ]
     },
     "metadata": {
      "needs_background": "light"
     },
     "output_type": "display_data"
    }
   ],
   "source": [
    "#Bar chart for both side's total win rate \n",
    "p1=winrate_df.plot(kind='bar')\n",
    "\n",
    "plt.title(\"FIFA winrate\")\n",
    "plt.ylabel('Win rate(%)')\n",
    "plt.bar_label(p1.containers[0], label_type='edge', fmt='%.2f%%')\n",
    "plt.bar_label(p1.containers[1], label_type='edge', fmt='%.2f%%')\n",
    "plt.show()"
   ]
  },
  {
   "cell_type": "markdown",
   "id": "3363c5eb",
   "metadata": {},
   "source": [
    "### Compare home team and away team total score and still, home team has better result.\n"
   ]
  },
  {
   "cell_type": "code",
   "execution_count": 113,
   "id": "0dcc2343",
   "metadata": {},
   "outputs": [
    {
     "data": {
      "text/plain": [
       "38494"
      ]
     },
     "execution_count": 113,
     "metadata": {},
     "output_type": "execute_result"
    }
   ],
   "source": [
    "#total scores from home team\n",
    "home_score = fifa_df.groupby('home_team')['home_team_score'].sum()\n",
    "home_score = home_score.sum()\n",
    "home_score"
   ]
  },
  {
   "cell_type": "code",
   "execution_count": 114,
   "id": "33dfdff3",
   "metadata": {},
   "outputs": [
    {
     "data": {
      "text/plain": [
       "25554"
      ]
     },
     "execution_count": 114,
     "metadata": {},
     "output_type": "execute_result"
    }
   ],
   "source": [
    "#total scores from away team\n",
    "away_score = fifa_df.groupby('away_team')['away_team_score'].sum()\n",
    "away_score = away_score.sum()\n",
    "away_score"
   ]
  },
  {
   "cell_type": "code",
   "execution_count": 119,
   "id": "918ff634",
   "metadata": {},
   "outputs": [
    {
     "data": {
      "text/html": [
       "<div>\n",
       "<style scoped>\n",
       "    .dataframe tbody tr th:only-of-type {\n",
       "        vertical-align: middle;\n",
       "    }\n",
       "\n",
       "    .dataframe tbody tr th {\n",
       "        vertical-align: top;\n",
       "    }\n",
       "\n",
       "    .dataframe thead th {\n",
       "        text-align: right;\n",
       "    }\n",
       "</style>\n",
       "<table border=\"1\" class=\"dataframe\">\n",
       "  <thead>\n",
       "    <tr style=\"text-align: right;\">\n",
       "      <th></th>\n",
       "      <th>home_score</th>\n",
       "      <th>away_score</th>\n",
       "    </tr>\n",
       "  </thead>\n",
       "  <tbody>\n",
       "    <tr>\n",
       "      <th>0</th>\n",
       "      <td>38494</td>\n",
       "      <td>25554</td>\n",
       "    </tr>\n",
       "  </tbody>\n",
       "</table>\n",
       "</div>"
      ],
      "text/plain": [
       "   home_score  away_score\n",
       "0       38494       25554"
      ]
     },
     "execution_count": 119,
     "metadata": {},
     "output_type": "execute_result"
    }
   ],
   "source": [
    "#create a score dataframe\n",
    "score_df = pd.DataFrame({'home_score':home_score,'away_score':away_score},index=[0])\n",
    "score_df"
   ]
  },
  {
   "cell_type": "code",
   "execution_count": 153,
   "id": "c53bb2e6",
   "metadata": {},
   "outputs": [
    {
     "data": {
      "image/png": "[encoded data removed]",
      "text/plain": [
       "<Figure size 432x288 with 1 Axes>"
      ]
     },
     "metadata": {
      "needs_background": "light"
     },
     "output_type": "display_data"
    }
   ],
   "source": [
    "#Bar chart for both side's total score\n",
    "p2=score_df.plot(kind='bar')\n",
    "\n",
    "plt.title(\"FIFA score\")\n",
    "plt.ylabel('Total scores(%)')\n",
    "plt.bar_label(p2.containers[0], fmt='%d')\n",
    "plt.bar_label(p2.containers[1], fmt='%d')\n",
    "plt.show()"
   ]
  },
  {
   "cell_type": "code",
   "execution_count": 4,
   "id": "32815aed",
   "metadata": {},
   "outputs": [
    {
     "name": "stdout",
     "output_type": "stream",
     "text": [
      "Most Positively Correlated Column: away_team_fifa_rank\n",
      "Maximum Correlation Value: 0.29898230957861455\n"
     ]
    }
   ],
   "source": [
    "correlation_series = fifa_df.corr()['home_team_score'].sort_values()\n",
    "max_corr_value = correlation_series.iloc[-2]\n",
    "max_corr_column = correlation_series.index[-2]\n",
    "print(\"Most Positively Correlated Column:\", max_corr_column)\n",
    "print(\"Maximum Correlation Value:\", max_corr_value)"
   ]
  },
  {
   "cell_type": "code",
   "execution_count": 15,
   "id": "b5969248",
   "metadata": {},
   "outputs": [
    {
     "data": {
      "text/plain": [
       "Text(0, 0.5, 'home_team_score')"
      ]
     },
     "execution_count": 15,
     "metadata": {},
     "output_type": "execute_result"
    },
    {
     "data": {
      "image/png": "[encoded data removed]",
      "text/plain": [
       "<Figure size 1080x360 with 1 Axes>"
      ]
     },
     "metadata": {
      "needs_background": "light"
     },
     "output_type": "display_data"
    }
   ],
   "source": [
    "\n",
    "# Plot distribution of column with highest correlation\n",
    "fig, ax = plt.subplots(figsize=(15,5))\n",
    "\n",
    "# Plot distribution of column with highest correlation\n",
    "ax.scatter(fifa_df[\"away_team_fifa_rank\"], fifa_df[\"home_team_score\"],alpha=0.3,color='green')\n",
    "\n",
    "# Customize labels\n",
    "ax.set_title(\"away_team_fifa_rank vs. home_team_score\")\n",
    "ax.set_xlabel(\"away_team_fifa_rank\")\n",
    "ax.set_ylabel(\"home_team_score\")\n",
    "\n"
   ]
  }
 ],
 "metadata": {
  "kernelspec": {
   "display_name": "Python 3 (ipykernel)",
   "language": "python",
   "name": "python3"
  },
  "language_info": {
   "codemirror_mode": {
    "name": "ipython",
    "version": 3
   },
   "file_extension": ".py",
   "mimetype": "text/x-python",
   "name": "python",
   "nbconvert_exporter": "python",
   "pygments_lexer": "ipython3",
   "version": "3.9.7"
  }
 },
 "nbformat": 4,
 "nbformat_minor": 5
}
